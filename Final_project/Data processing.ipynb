{
 "cells": [
  {
   "cell_type": "markdown",
   "id": "4307d645",
   "metadata": {},
   "source": [
    "# Data processing "
   ]
  },
  {
   "cell_type": "code",
   "execution_count": 31,
   "id": "420c7b7e",
   "metadata": {},
   "outputs": [],
   "source": [
    "#importing libraries needed\n",
    "import csv\n",
    "import pandas as pd\n",
    "from nltk.corpus import stopwords\n",
    "import matplotlib.pyplot as plt\n",
    "\n"
   ]
  },
  {
   "cell_type": "code",
   "execution_count": 62,
   "id": "0a123e2d",
   "metadata": {},
   "outputs": [
    {
     "data": {
      "text/html": [
       "<div>\n",
       "<style scoped>\n",
       "    .dataframe tbody tr th:only-of-type {\n",
       "        vertical-align: middle;\n",
       "    }\n",
       "\n",
       "    .dataframe tbody tr th {\n",
       "        vertical-align: top;\n",
       "    }\n",
       "\n",
       "    .dataframe thead th {\n",
       "        text-align: right;\n",
       "    }\n",
       "</style>\n",
       "<table border=\"1\" class=\"dataframe\">\n",
       "  <thead>\n",
       "    <tr style=\"text-align: right;\">\n",
       "      <th></th>\n",
       "      <th>ISBN</th>\n",
       "      <th>Title</th>\n",
       "      <th>Author</th>\n",
       "      <th>Year</th>\n",
       "      <th>Publisher</th>\n",
       "      <th>Blurb</th>\n",
       "    </tr>\n",
       "  </thead>\n",
       "  <tbody>\n",
       "    <tr>\n",
       "      <th>0</th>\n",
       "      <td>0060973129</td>\n",
       "      <td>Decision in Normandy</td>\n",
       "      <td>Carlo D'Este</td>\n",
       "      <td>1991</td>\n",
       "      <td>HarperPerennial</td>\n",
       "      <td>Here, for the first time in paperback, is an o...</td>\n",
       "    </tr>\n",
       "    <tr>\n",
       "      <th>1</th>\n",
       "      <td>0374157065</td>\n",
       "      <td>Flu: The Story of the Great Influenza Pandemic...</td>\n",
       "      <td>Gina Bari Kolata</td>\n",
       "      <td>1999</td>\n",
       "      <td>Farrar Straus Giroux</td>\n",
       "      <td>The fascinating, true story of the world's dea...</td>\n",
       "    </tr>\n",
       "    <tr>\n",
       "      <th>2</th>\n",
       "      <td>0399135782</td>\n",
       "      <td>The Kitchen God's Wife</td>\n",
       "      <td>Amy Tan</td>\n",
       "      <td>1991</td>\n",
       "      <td>Putnam Pub Group</td>\n",
       "      <td>Winnie and Helen have kept each others worst s...</td>\n",
       "    </tr>\n",
       "    <tr>\n",
       "      <th>3</th>\n",
       "      <td>0425176428</td>\n",
       "      <td>What If?: The World's Foremost Military Histor...</td>\n",
       "      <td>Robert Cowley</td>\n",
       "      <td>2000</td>\n",
       "      <td>Berkley Publishing Group</td>\n",
       "      <td>Historians and inquisitive laymen alike love t...</td>\n",
       "    </tr>\n",
       "    <tr>\n",
       "      <th>4</th>\n",
       "      <td>1881320189</td>\n",
       "      <td>Goodbye to the Buttermilk Sky</td>\n",
       "      <td>Julia Oliver</td>\n",
       "      <td>1994</td>\n",
       "      <td>River City Pub</td>\n",
       "      <td>This highly praised first novel by fiction wri...</td>\n",
       "    </tr>\n",
       "  </tbody>\n",
       "</table>\n",
       "</div>"
      ],
      "text/plain": [
       "         ISBN                                              Title  \\\n",
       "0  0060973129                               Decision in Normandy   \n",
       "1  0374157065  Flu: The Story of the Great Influenza Pandemic...   \n",
       "2  0399135782                             The Kitchen God's Wife   \n",
       "3  0425176428  What If?: The World's Foremost Military Histor...   \n",
       "4  1881320189                      Goodbye to the Buttermilk Sky   \n",
       "\n",
       "             Author  Year                 Publisher  \\\n",
       "0      Carlo D'Este  1991           HarperPerennial   \n",
       "1  Gina Bari Kolata  1999      Farrar Straus Giroux   \n",
       "2           Amy Tan  1991          Putnam Pub Group   \n",
       "3     Robert Cowley  2000  Berkley Publishing Group   \n",
       "4      Julia Oliver  1994            River City Pub   \n",
       "\n",
       "                                               Blurb  \n",
       "0  Here, for the first time in paperback, is an o...  \n",
       "1  The fascinating, true story of the world's dea...  \n",
       "2  Winnie and Helen have kept each others worst s...  \n",
       "3  Historians and inquisitive laymen alike love t...  \n",
       "4  This highly praised first novel by fiction wri...  "
      ]
     },
     "execution_count": 62,
     "metadata": {},
     "output_type": "execute_result"
    }
   ],
   "source": [
    "#open the dataset i got from kaggle, containing over 57000 books\n",
    "books = pd.read_csv('books.csv', delimiter=',')\n",
    "books.head()"
   ]
  },
  {
   "cell_type": "code",
   "execution_count": 63,
   "id": "183e4748",
   "metadata": {},
   "outputs": [
    {
     "data": {
      "text/plain": [
       "(57510, 6)"
      ]
     },
     "execution_count": 63,
     "metadata": {},
     "output_type": "execute_result"
    }
   ],
   "source": [
    "books.shape"
   ]
  },
  {
   "cell_type": "code",
   "execution_count": 65,
   "id": "e9813b2c",
   "metadata": {},
   "outputs": [
    {
     "data": {
      "text/plain": [
       "(52307, 6)"
      ]
     },
     "execution_count": 65,
     "metadata": {},
     "output_type": "execute_result"
    }
   ],
   "source": [
    "#get rid of any duplicates\n",
    "book = b_books.drop_duplicates(subset='Title', keep=\"first\")\n",
    "book.shape"
   ]
  },
  {
   "cell_type": "markdown",
   "id": "640e5f56",
   "metadata": {},
   "source": [
    "Since i also want the pictures of the books recommended, I also have to find a data set containing the cover picture of the books. This i found on the http://www2.informatik.uni-freiburg.de/~cziegler/BX/ website. This dataset containing the URL to the book cover of 271360 books, besides URL to the bookcover the data set also contained the ISBN number, the author, year of publication and publisher. Next step is then to load this data set and merge this to the data set books_df2. Since both data sets have ISBN-numbers i can use this to merge them together."
   ]
  },
  {
   "cell_type": "code",
   "execution_count": 67,
   "id": "66c1524c",
   "metadata": {},
   "outputs": [
    {
     "name": "stderr",
     "output_type": "stream",
     "text": [
      "b'Skipping line 6452: expected 8 fields, saw 9\\nSkipping line 43667: expected 8 fields, saw 10\\nSkipping line 51751: expected 8 fields, saw 9\\n'\n",
      "b'Skipping line 92038: expected 8 fields, saw 9\\nSkipping line 104319: expected 8 fields, saw 9\\nSkipping line 121768: expected 8 fields, saw 9\\n'\n",
      "b'Skipping line 144058: expected 8 fields, saw 9\\nSkipping line 150789: expected 8 fields, saw 9\\nSkipping line 157128: expected 8 fields, saw 9\\nSkipping line 180189: expected 8 fields, saw 9\\nSkipping line 185738: expected 8 fields, saw 9\\n'\n",
      "b'Skipping line 209388: expected 8 fields, saw 9\\nSkipping line 220626: expected 8 fields, saw 9\\nSkipping line 227933: expected 8 fields, saw 11\\nSkipping line 228957: expected 8 fields, saw 10\\nSkipping line 245933: expected 8 fields, saw 9\\nSkipping line 251296: expected 8 fields, saw 9\\nSkipping line 259941: expected 8 fields, saw 9\\nSkipping line 261529: expected 8 fields, saw 9\\n'\n"
     ]
    },
    {
     "data": {
      "text/html": [
       "<div>\n",
       "<style scoped>\n",
       "    .dataframe tbody tr th:only-of-type {\n",
       "        vertical-align: middle;\n",
       "    }\n",
       "\n",
       "    .dataframe tbody tr th {\n",
       "        vertical-align: top;\n",
       "    }\n",
       "\n",
       "    .dataframe thead th {\n",
       "        text-align: right;\n",
       "    }\n",
       "</style>\n",
       "<table border=\"1\" class=\"dataframe\">\n",
       "  <thead>\n",
       "    <tr style=\"text-align: right;\">\n",
       "      <th></th>\n",
       "      <th>ISBN</th>\n",
       "      <th>bookTitle</th>\n",
       "      <th>bookAuthor</th>\n",
       "      <th>yearOfPublication</th>\n",
       "      <th>publisher</th>\n",
       "      <th>imageUrlS</th>\n",
       "      <th>imageUrlM</th>\n",
       "      <th>imageUrlL</th>\n",
       "    </tr>\n",
       "  </thead>\n",
       "  <tbody>\n",
       "    <tr>\n",
       "      <th>0</th>\n",
       "      <td>0195153448</td>\n",
       "      <td>Classical Mythology</td>\n",
       "      <td>Mark P. O. Morford</td>\n",
       "      <td>2002</td>\n",
       "      <td>Oxford University Press</td>\n",
       "      <td>http://images.amazon.com/images/P/0195153448.0...</td>\n",
       "      <td>http://images.amazon.com/images/P/0195153448.0...</td>\n",
       "      <td>http://images.amazon.com/images/P/0195153448.0...</td>\n",
       "    </tr>\n",
       "    <tr>\n",
       "      <th>1</th>\n",
       "      <td>0002005018</td>\n",
       "      <td>Clara Callan</td>\n",
       "      <td>Richard Bruce Wright</td>\n",
       "      <td>2001</td>\n",
       "      <td>HarperFlamingo Canada</td>\n",
       "      <td>http://images.amazon.com/images/P/0002005018.0...</td>\n",
       "      <td>http://images.amazon.com/images/P/0002005018.0...</td>\n",
       "      <td>http://images.amazon.com/images/P/0002005018.0...</td>\n",
       "    </tr>\n",
       "    <tr>\n",
       "      <th>2</th>\n",
       "      <td>0060973129</td>\n",
       "      <td>Decision in Normandy</td>\n",
       "      <td>Carlo D'Este</td>\n",
       "      <td>1991</td>\n",
       "      <td>HarperPerennial</td>\n",
       "      <td>http://images.amazon.com/images/P/0060973129.0...</td>\n",
       "      <td>http://images.amazon.com/images/P/0060973129.0...</td>\n",
       "      <td>http://images.amazon.com/images/P/0060973129.0...</td>\n",
       "    </tr>\n",
       "    <tr>\n",
       "      <th>3</th>\n",
       "      <td>0374157065</td>\n",
       "      <td>Flu: The Story of the Great Influenza Pandemic...</td>\n",
       "      <td>Gina Bari Kolata</td>\n",
       "      <td>1999</td>\n",
       "      <td>Farrar Straus Giroux</td>\n",
       "      <td>http://images.amazon.com/images/P/0374157065.0...</td>\n",
       "      <td>http://images.amazon.com/images/P/0374157065.0...</td>\n",
       "      <td>http://images.amazon.com/images/P/0374157065.0...</td>\n",
       "    </tr>\n",
       "    <tr>\n",
       "      <th>4</th>\n",
       "      <td>0393045218</td>\n",
       "      <td>The Mummies of Urumchi</td>\n",
       "      <td>E. J. W. Barber</td>\n",
       "      <td>1999</td>\n",
       "      <td>W. W. Norton &amp;amp; Company</td>\n",
       "      <td>http://images.amazon.com/images/P/0393045218.0...</td>\n",
       "      <td>http://images.amazon.com/images/P/0393045218.0...</td>\n",
       "      <td>http://images.amazon.com/images/P/0393045218.0...</td>\n",
       "    </tr>\n",
       "  </tbody>\n",
       "</table>\n",
       "</div>"
      ],
      "text/plain": [
       "         ISBN                                          bookTitle  \\\n",
       "0  0195153448                                Classical Mythology   \n",
       "1  0002005018                                       Clara Callan   \n",
       "2  0060973129                               Decision in Normandy   \n",
       "3  0374157065  Flu: The Story of the Great Influenza Pandemic...   \n",
       "4  0393045218                             The Mummies of Urumchi   \n",
       "\n",
       "             bookAuthor yearOfPublication                   publisher  \\\n",
       "0    Mark P. O. Morford              2002     Oxford University Press   \n",
       "1  Richard Bruce Wright              2001       HarperFlamingo Canada   \n",
       "2          Carlo D'Este              1991             HarperPerennial   \n",
       "3      Gina Bari Kolata              1999        Farrar Straus Giroux   \n",
       "4       E. J. W. Barber              1999  W. W. Norton &amp; Company   \n",
       "\n",
       "                                           imageUrlS  \\\n",
       "0  http://images.amazon.com/images/P/0195153448.0...   \n",
       "1  http://images.amazon.com/images/P/0002005018.0...   \n",
       "2  http://images.amazon.com/images/P/0060973129.0...   \n",
       "3  http://images.amazon.com/images/P/0374157065.0...   \n",
       "4  http://images.amazon.com/images/P/0393045218.0...   \n",
       "\n",
       "                                           imageUrlM  \\\n",
       "0  http://images.amazon.com/images/P/0195153448.0...   \n",
       "1  http://images.amazon.com/images/P/0002005018.0...   \n",
       "2  http://images.amazon.com/images/P/0060973129.0...   \n",
       "3  http://images.amazon.com/images/P/0374157065.0...   \n",
       "4  http://images.amazon.com/images/P/0393045218.0...   \n",
       "\n",
       "                                           imageUrlL  \n",
       "0  http://images.amazon.com/images/P/0195153448.0...  \n",
       "1  http://images.amazon.com/images/P/0002005018.0...  \n",
       "2  http://images.amazon.com/images/P/0060973129.0...  \n",
       "3  http://images.amazon.com/images/P/0374157065.0...  \n",
       "4  http://images.amazon.com/images/P/0393045218.0...  "
      ]
     },
     "execution_count": 67,
     "metadata": {},
     "output_type": "execute_result"
    }
   ],
   "source": [
    "books_df1 = pd.read_csv('BX-Books.csv', sep=';', error_bad_lines=False, encoding=\"latin-1\")\n",
    "books_df1.columns = ['ISBN', 'bookTitle', 'bookAuthor', 'yearOfPublication', 'publisher', \n",
    "                 'imageUrlS', 'imageUrlM', 'imageUrlL']\n",
    "books_df1.head()"
   ]
  },
  {
   "cell_type": "code",
   "execution_count": 70,
   "id": "5f7a640b",
   "metadata": {},
   "outputs": [],
   "source": [
    "#Merge the two data sets thogether with pd.merge\n",
    "merged = pd.merge(b_books, all_books, how='inner', on=['ISBN'])"
   ]
  },
  {
   "cell_type": "code",
   "execution_count": 71,
   "id": "01d89155",
   "metadata": {},
   "outputs": [],
   "source": [
    "#get rid of the columns that i don't need \n",
    "merged = merged[['ISBN', 'Title', 'Author', 'Year', 'Publisher', 'Blurb', 'imageUrlL']]\n"
   ]
  },
  {
   "cell_type": "markdown",
   "id": "1ef596a0",
   "metadata": {},
   "source": [
    "From det data extrcted from http://www2.informatik.uni-freiburg.de/~cziegler/BX/, we also get a CSV-file with ratings of the books, i will also use this to add ratings to the books."
   ]
  },
  {
   "cell_type": "code",
   "execution_count": 72,
   "id": "db2bf044",
   "metadata": {},
   "outputs": [],
   "source": [
    "#open the ratings data set\n",
    "all_ratings = pd.read_csv('BX-Book-Ratings.csv', sep=';', error_bad_lines=False, encoding=\"latin-1\")\n",
    "all_ratings.columns = ['userID', 'ISBN', 'bookRating']\n"
   ]
  },
  {
   "cell_type": "code",
   "execution_count": 73,
   "id": "c25ce167",
   "metadata": {},
   "outputs": [
    {
     "data": {
      "text/html": [
       "<div>\n",
       "<style scoped>\n",
       "    .dataframe tbody tr th:only-of-type {\n",
       "        vertical-align: middle;\n",
       "    }\n",
       "\n",
       "    .dataframe tbody tr th {\n",
       "        vertical-align: top;\n",
       "    }\n",
       "\n",
       "    .dataframe thead th {\n",
       "        text-align: right;\n",
       "    }\n",
       "</style>\n",
       "<table border=\"1\" class=\"dataframe\">\n",
       "  <thead>\n",
       "    <tr style=\"text-align: right;\">\n",
       "      <th></th>\n",
       "      <th>bookRating</th>\n",
       "      <th>ratingCount</th>\n",
       "    </tr>\n",
       "    <tr>\n",
       "      <th>ISBN</th>\n",
       "      <th></th>\n",
       "      <th></th>\n",
       "    </tr>\n",
       "  </thead>\n",
       "  <tbody>\n",
       "    <tr>\n",
       "      <th>0971880107</th>\n",
       "      <td>1.019584</td>\n",
       "      <td>2502</td>\n",
       "    </tr>\n",
       "    <tr>\n",
       "      <th>0316666343</th>\n",
       "      <td>4.468726</td>\n",
       "      <td>1295</td>\n",
       "    </tr>\n",
       "    <tr>\n",
       "      <th>0385504209</th>\n",
       "      <td>4.652322</td>\n",
       "      <td>883</td>\n",
       "    </tr>\n",
       "    <tr>\n",
       "      <th>0060928336</th>\n",
       "      <td>3.448087</td>\n",
       "      <td>732</td>\n",
       "    </tr>\n",
       "    <tr>\n",
       "      <th>0312195516</th>\n",
       "      <td>4.334716</td>\n",
       "      <td>723</td>\n",
       "    </tr>\n",
       "  </tbody>\n",
       "</table>\n",
       "</div>"
      ],
      "text/plain": [
       "            bookRating  ratingCount\n",
       "ISBN                               \n",
       "0971880107    1.019584         2502\n",
       "0316666343    4.468726         1295\n",
       "0385504209    4.652322          883\n",
       "0060928336    3.448087          732\n",
       "0312195516    4.334716          723"
      ]
     },
     "execution_count": 73,
     "metadata": {},
     "output_type": "execute_result"
    }
   ],
   "source": [
    "#calculating the mean rating of each book by gouping the isbn-number and also counting the number of ratings each book has gotten \n",
    "average_rating = pd.DataFrame(all_ratings.groupby('ISBN')['bookRating'].mean())\n",
    "average_rating['ratingCount'] = pd.DataFrame(all_ratings.groupby('ISBN')['bookRating'].count())\n",
    "average_rating.sort_values('ratingCount', ascending=False).head()"
   ]
  },
  {
   "cell_type": "code",
   "execution_count": 74,
   "id": "0f09b98d",
   "metadata": {},
   "outputs": [
    {
     "data": {
      "text/html": [
       "<div>\n",
       "<style scoped>\n",
       "    .dataframe tbody tr th:only-of-type {\n",
       "        vertical-align: middle;\n",
       "    }\n",
       "\n",
       "    .dataframe tbody tr th {\n",
       "        vertical-align: top;\n",
       "    }\n",
       "\n",
       "    .dataframe thead th {\n",
       "        text-align: right;\n",
       "    }\n",
       "</style>\n",
       "<table border=\"1\" class=\"dataframe\">\n",
       "  <thead>\n",
       "    <tr style=\"text-align: right;\">\n",
       "      <th></th>\n",
       "      <th>ISBN</th>\n",
       "      <th>Title</th>\n",
       "      <th>Author</th>\n",
       "      <th>Year</th>\n",
       "      <th>Publisher</th>\n",
       "      <th>Blurb</th>\n",
       "      <th>imageUrlL</th>\n",
       "      <th>averageRating</th>\n",
       "      <th>ratingCount</th>\n",
       "    </tr>\n",
       "  </thead>\n",
       "  <tbody>\n",
       "    <tr>\n",
       "      <th>0</th>\n",
       "      <td>0060973129</td>\n",
       "      <td>Decision in Normandy</td>\n",
       "      <td>Carlo D'Este</td>\n",
       "      <td>1991</td>\n",
       "      <td>HarperPerennial</td>\n",
       "      <td>Here, for the first time in paperback, is an o...</td>\n",
       "      <td>http://images.amazon.com/images/P/0060973129.0...</td>\n",
       "      <td>5.000000</td>\n",
       "      <td>3</td>\n",
       "    </tr>\n",
       "    <tr>\n",
       "      <th>1</th>\n",
       "      <td>0374157065</td>\n",
       "      <td>Flu: The Story of the Great Influenza Pandemic...</td>\n",
       "      <td>Gina Bari Kolata</td>\n",
       "      <td>1999</td>\n",
       "      <td>Farrar Straus Giroux</td>\n",
       "      <td>The fascinating, true story of the world's dea...</td>\n",
       "      <td>http://images.amazon.com/images/P/0374157065.0...</td>\n",
       "      <td>4.272727</td>\n",
       "      <td>11</td>\n",
       "    </tr>\n",
       "    <tr>\n",
       "      <th>2</th>\n",
       "      <td>0399135782</td>\n",
       "      <td>The Kitchen God's Wife</td>\n",
       "      <td>Amy Tan</td>\n",
       "      <td>1991</td>\n",
       "      <td>Putnam Pub Group</td>\n",
       "      <td>Winnie and Helen have kept each others worst s...</td>\n",
       "      <td>http://images.amazon.com/images/P/0399135782.0...</td>\n",
       "      <td>4.212121</td>\n",
       "      <td>33</td>\n",
       "    </tr>\n",
       "    <tr>\n",
       "      <th>3</th>\n",
       "      <td>0425176428</td>\n",
       "      <td>What If?: The World's Foremost Military Histor...</td>\n",
       "      <td>Robert Cowley</td>\n",
       "      <td>2000</td>\n",
       "      <td>Berkley Publishing Group</td>\n",
       "      <td>Historians and inquisitive laymen alike love t...</td>\n",
       "      <td>http://images.amazon.com/images/P/0425176428.0...</td>\n",
       "      <td>1.600000</td>\n",
       "      <td>5</td>\n",
       "    </tr>\n",
       "    <tr>\n",
       "      <th>4</th>\n",
       "      <td>1881320189</td>\n",
       "      <td>Goodbye to the Buttermilk Sky</td>\n",
       "      <td>Julia Oliver</td>\n",
       "      <td>1994</td>\n",
       "      <td>River City Pub</td>\n",
       "      <td>This highly praised first novel by fiction wri...</td>\n",
       "      <td>http://images.amazon.com/images/P/1881320189.0...</td>\n",
       "      <td>4.666667</td>\n",
       "      <td>3</td>\n",
       "    </tr>\n",
       "  </tbody>\n",
       "</table>\n",
       "</div>"
      ],
      "text/plain": [
       "         ISBN                                              Title  \\\n",
       "0  0060973129                               Decision in Normandy   \n",
       "1  0374157065  Flu: The Story of the Great Influenza Pandemic...   \n",
       "2  0399135782                             The Kitchen God's Wife   \n",
       "3  0425176428  What If?: The World's Foremost Military Histor...   \n",
       "4  1881320189                      Goodbye to the Buttermilk Sky   \n",
       "\n",
       "             Author  Year                 Publisher  \\\n",
       "0      Carlo D'Este  1991           HarperPerennial   \n",
       "1  Gina Bari Kolata  1999      Farrar Straus Giroux   \n",
       "2           Amy Tan  1991          Putnam Pub Group   \n",
       "3     Robert Cowley  2000  Berkley Publishing Group   \n",
       "4      Julia Oliver  1994            River City Pub   \n",
       "\n",
       "                                               Blurb  \\\n",
       "0  Here, for the first time in paperback, is an o...   \n",
       "1  The fascinating, true story of the world's dea...   \n",
       "2  Winnie and Helen have kept each others worst s...   \n",
       "3  Historians and inquisitive laymen alike love t...   \n",
       "4  This highly praised first novel by fiction wri...   \n",
       "\n",
       "                                           imageUrlL  averageRating  \\\n",
       "0  http://images.amazon.com/images/P/0060973129.0...       5.000000   \n",
       "1  http://images.amazon.com/images/P/0374157065.0...       4.272727   \n",
       "2  http://images.amazon.com/images/P/0399135782.0...       4.212121   \n",
       "3  http://images.amazon.com/images/P/0425176428.0...       1.600000   \n",
       "4  http://images.amazon.com/images/P/1881320189.0...       4.666667   \n",
       "\n",
       "   ratingCount  \n",
       "0            3  \n",
       "1           11  \n",
       "2           33  \n",
       "3            5  \n",
       "4            3  "
      ]
     },
     "execution_count": 74,
     "metadata": {},
     "output_type": "execute_result"
    }
   ],
   "source": [
    "#merge this data set to the original data set \n",
    "merged = pd.merge(merged, average_rating, how='inner', on=['ISBN'])\n",
    "merged.rename(columns={'bookRating':'averageRating'}, inplace=True)\n",
    "merged.head()"
   ]
  },
  {
   "attachments": {},
   "cell_type": "markdown",
   "id": "fc6c36f5",
   "metadata": {},
   "source": [
    "To get a better description of the blurbs, i made a wordcounter for the blurbs. We can see there are at least one blurb that only have a wordcount of 1 and 25% of the blurbs have a wordcount under 52. We can also see that the biggest blurb is 2679 words long, this is probably a outlier since we can clearly see that the mean is 113 words and the 75 percentile is 152 words. Because of this i decided to get rid of blurbs that are under 50 words and over 500 words as threshold."
   ]
  },
  {
   "cell_type": "code",
   "execution_count": 75,
   "id": "cb569097",
   "metadata": {},
   "outputs": [],
   "source": [
    "merged['wordCount'] = books['Blurb'].apply(lambda x: len(str(x).split()))"
   ]
  },
  {
   "cell_type": "code",
   "execution_count": 76,
   "id": "b9a7942a",
   "metadata": {},
   "outputs": [
    {
     "data": {
      "text/plain": [
       "count    57510.000000\n",
       "mean       113.636324\n",
       "std         80.884984\n",
       "min          1.000000\n",
       "25%         52.000000\n",
       "50%         98.000000\n",
       "75%        152.000000\n",
       "max       2679.000000\n",
       "Name: wordCount, dtype: float64"
      ]
     },
     "execution_count": 76,
     "metadata": {},
     "output_type": "execute_result"
    }
   ],
   "source": [
    "merged['wordCount'].describe()"
   ]
  },
  {
   "cell_type": "code",
   "execution_count": 77,
   "id": "316b0a90",
   "metadata": {},
   "outputs": [
    {
     "data": {
      "text/plain": [
       "(array([1.5374e+04, 1.6442e+04, 1.3319e+04, 6.8310e+03, 2.8180e+03,\n",
       "        1.4210e+03, 6.9400e+02, 3.1900e+02, 1.2000e+02, 8.1000e+01,\n",
       "        4.1000e+01, 1.4000e+01, 9.0000e+00, 1.0000e+01, 3.0000e+00,\n",
       "        3.0000e+00, 1.0000e+00, 3.0000e+00, 2.0000e+00, 0.0000e+00,\n",
       "        0.0000e+00, 1.0000e+00, 2.0000e+00, 0.0000e+00, 0.0000e+00,\n",
       "        0.0000e+00, 0.0000e+00, 0.0000e+00, 0.0000e+00, 1.0000e+00,\n",
       "        0.0000e+00, 0.0000e+00, 0.0000e+00, 0.0000e+00, 0.0000e+00,\n",
       "        0.0000e+00, 0.0000e+00, 0.0000e+00, 0.0000e+00, 0.0000e+00,\n",
       "        0.0000e+00, 0.0000e+00, 0.0000e+00, 0.0000e+00, 0.0000e+00,\n",
       "        0.0000e+00, 0.0000e+00, 0.0000e+00, 0.0000e+00, 1.0000e+00]),\n",
       " array([1.00000e+00, 5.45600e+01, 1.08120e+02, 1.61680e+02, 2.15240e+02,\n",
       "        2.68800e+02, 3.22360e+02, 3.75920e+02, 4.29480e+02, 4.83040e+02,\n",
       "        5.36600e+02, 5.90160e+02, 6.43720e+02, 6.97280e+02, 7.50840e+02,\n",
       "        8.04400e+02, 8.57960e+02, 9.11520e+02, 9.65080e+02, 1.01864e+03,\n",
       "        1.07220e+03, 1.12576e+03, 1.17932e+03, 1.23288e+03, 1.28644e+03,\n",
       "        1.34000e+03, 1.39356e+03, 1.44712e+03, 1.50068e+03, 1.55424e+03,\n",
       "        1.60780e+03, 1.66136e+03, 1.71492e+03, 1.76848e+03, 1.82204e+03,\n",
       "        1.87560e+03, 1.92916e+03, 1.98272e+03, 2.03628e+03, 2.08984e+03,\n",
       "        2.14340e+03, 2.19696e+03, 2.25052e+03, 2.30408e+03, 2.35764e+03,\n",
       "        2.41120e+03, 2.46476e+03, 2.51832e+03, 2.57188e+03, 2.62544e+03,\n",
       "        2.67900e+03]),\n",
       " <BarContainer object of 50 artists>)"
      ]
     },
     "execution_count": 77,
     "metadata": {},
     "output_type": "execute_result"
    },
    {
     "data": {
      "image/png": "[encoded data removed]",
      "text/plain": [
       "<Figure size 1224x252 with 2 Axes>"
      ]
     },
     "metadata": {
      "needs_background": "light"
     },
     "output_type": "display_data"
    }
   ],
   "source": [
    "fig, axes = plt.subplots(1,2, figsize=(17,3.5))\n",
    "axes[0].boxplot(merged.wordCount, showmeans=True,vert=False)\n",
    "axes[1].hist(merged.wordCount, cumulative=False, bins=50, histtype='bar')"
   ]
  },
  {
   "cell_type": "code",
   "execution_count": 80,
   "id": "d93db20e",
   "metadata": {},
   "outputs": [],
   "source": [
    "#makes a new data frame with only the observations that have a wordcouunt over 50 and under 500\n",
    "merged_df1 = merged.loc[merged['wordCount'].isin(range(50,500))]"
   ]
  },
  {
   "cell_type": "code",
   "execution_count": 81,
   "id": "aebff1d9",
   "metadata": {},
   "outputs": [
    {
     "data": {
      "text/plain": [
       "(44306, 10)"
      ]
     },
     "execution_count": 81,
     "metadata": {},
     "output_type": "execute_result"
    }
   ],
   "source": [
    "merged_df1.shape"
   ]
  },
  {
   "cell_type": "markdown",
   "id": "d2de5581",
   "metadata": {},
   "source": [
    "Clean the blurbs with the help of regular expression, and get rid of numbers, punctuation and links"
   ]
  },
  {
   "cell_type": "code",
   "execution_count": 82,
   "id": "d7f6637f",
   "metadata": {},
   "outputs": [],
   "source": [
    "merged_df2 = merged_df1.copy()\n",
    "merged_df2['cleanedBlurb'] = merged_df2['Blurb'].str.lower()\n",
    "merged_df2['cleanedBlurb'] = merged_df2['cleanedBlurb'].replace(r'@\\w+', '', regex=True)\n",
    "merged_df2['cleanedBlurb'] = merged_df2['cleanedBlurb'].replace(r'http\\S+', '', regex=True)\n",
    "merged_df2['cleanedBlurb'] = merged_df2['cleanedBlurb'].replace(r'[0-9]+', '', regex=True)\n",
    "merged_df2['cleanedBlurb'] = merged_df2['cleanedBlurb'].replace(r'[!\"#$%&()*+,-./:;<=>?@[\\]^_`{|}~]', '', regex=True)\n",
    "merged_df2['cleanedBlurb'] = merged_df2['cleanedBlurb'].replace(r'www.[^ ]+', '', regex=True)"
   ]
  },
  {
   "cell_type": "code",
   "execution_count": 83,
   "id": "9b7637a6",
   "metadata": {},
   "outputs": [],
   "source": [
    "#Remove stopwords from the blurbs\n",
    "merged_df2['cleanedBlurb'] = merged_df2['cleanedBlurb'].fillna(\"\").astype('str')\n",
    "stop_words = set(stopwords.words('english'))\n",
    "merged_df2['cleanedBlurb'] = merged_df2['cleanedBlurb'].apply(lambda x: ' '.join([word for word in x.split() \n",
    "                                                                          if word not in stop_words]))"
   ]
  },
  {
   "cell_type": "code",
   "execution_count": 84,
   "id": "324e2ff1",
   "metadata": {
    "scrolled": false
   },
   "outputs": [
    {
     "data": {
      "text/html": [
       "<div>\n",
       "<style scoped>\n",
       "    .dataframe tbody tr th:only-of-type {\n",
       "        vertical-align: middle;\n",
       "    }\n",
       "\n",
       "    .dataframe tbody tr th {\n",
       "        vertical-align: top;\n",
       "    }\n",
       "\n",
       "    .dataframe thead th {\n",
       "        text-align: right;\n",
       "    }\n",
       "</style>\n",
       "<table border=\"1\" class=\"dataframe\">\n",
       "  <thead>\n",
       "    <tr style=\"text-align: right;\">\n",
       "      <th></th>\n",
       "      <th>ISBN</th>\n",
       "      <th>Title</th>\n",
       "      <th>Author</th>\n",
       "      <th>Year</th>\n",
       "      <th>Publisher</th>\n",
       "      <th>Blurb</th>\n",
       "      <th>imageUrlL</th>\n",
       "      <th>averageRating</th>\n",
       "      <th>ratingCount</th>\n",
       "      <th>wordCount</th>\n",
       "      <th>cleanedBlurb</th>\n",
       "    </tr>\n",
       "  </thead>\n",
       "  <tbody>\n",
       "    <tr>\n",
       "      <th>1</th>\n",
       "      <td>0374157065</td>\n",
       "      <td>Flu: The Story of the Great Influenza Pandemic...</td>\n",
       "      <td>Gina Bari Kolata</td>\n",
       "      <td>1999</td>\n",
       "      <td>Farrar Straus Giroux</td>\n",
       "      <td>The fascinating, true story of the world's dea...</td>\n",
       "      <td>http://images.amazon.com/images/P/0374157065.0...</td>\n",
       "      <td>4.272727</td>\n",
       "      <td>11</td>\n",
       "      <td>180</td>\n",
       "      <td>fascinating true story world's deadliest disea...</td>\n",
       "    </tr>\n",
       "    <tr>\n",
       "      <th>2</th>\n",
       "      <td>0399135782</td>\n",
       "      <td>The Kitchen God's Wife</td>\n",
       "      <td>Amy Tan</td>\n",
       "      <td>1991</td>\n",
       "      <td>Putnam Pub Group</td>\n",
       "      <td>Winnie and Helen have kept each others worst s...</td>\n",
       "      <td>http://images.amazon.com/images/P/0399135782.0...</td>\n",
       "      <td>4.212121</td>\n",
       "      <td>33</td>\n",
       "      <td>94</td>\n",
       "      <td>winnie helen kept others worst secrets fifty y...</td>\n",
       "    </tr>\n",
       "    <tr>\n",
       "      <th>3</th>\n",
       "      <td>0425176428</td>\n",
       "      <td>What If?: The World's Foremost Military Histor...</td>\n",
       "      <td>Robert Cowley</td>\n",
       "      <td>2000</td>\n",
       "      <td>Berkley Publishing Group</td>\n",
       "      <td>Historians and inquisitive laymen alike love t...</td>\n",
       "      <td>http://images.amazon.com/images/P/0425176428.0...</td>\n",
       "      <td>1.600000</td>\n",
       "      <td>5</td>\n",
       "      <td>63</td>\n",
       "      <td>historians inquisitive laymen alike love ponde...</td>\n",
       "    </tr>\n",
       "    <tr>\n",
       "      <th>4</th>\n",
       "      <td>1881320189</td>\n",
       "      <td>Goodbye to the Buttermilk Sky</td>\n",
       "      <td>Julia Oliver</td>\n",
       "      <td>1994</td>\n",
       "      <td>River City Pub</td>\n",
       "      <td>This highly praised first novel by fiction wri...</td>\n",
       "      <td>http://images.amazon.com/images/P/1881320189.0...</td>\n",
       "      <td>4.666667</td>\n",
       "      <td>3</td>\n",
       "      <td>268</td>\n",
       "      <td>highly praised first novel fiction writer juli...</td>\n",
       "    </tr>\n",
       "    <tr>\n",
       "      <th>5</th>\n",
       "      <td>0440234743</td>\n",
       "      <td>The Testament</td>\n",
       "      <td>John Grisham</td>\n",
       "      <td>1999</td>\n",
       "      <td>Dell</td>\n",
       "      <td>In a plush Virginia office, a rich, angry old ...</td>\n",
       "      <td>http://images.amazon.com/images/P/0440234743.0...</td>\n",
       "      <td>3.085308</td>\n",
       "      <td>422</td>\n",
       "      <td>152</td>\n",
       "      <td>plush virginia office rich angry old man furio...</td>\n",
       "    </tr>\n",
       "  </tbody>\n",
       "</table>\n",
       "</div>"
      ],
      "text/plain": [
       "         ISBN                                              Title  \\\n",
       "1  0374157065  Flu: The Story of the Great Influenza Pandemic...   \n",
       "2  0399135782                             The Kitchen God's Wife   \n",
       "3  0425176428  What If?: The World's Foremost Military Histor...   \n",
       "4  1881320189                      Goodbye to the Buttermilk Sky   \n",
       "5  0440234743                                      The Testament   \n",
       "\n",
       "             Author  Year                 Publisher  \\\n",
       "1  Gina Bari Kolata  1999      Farrar Straus Giroux   \n",
       "2           Amy Tan  1991          Putnam Pub Group   \n",
       "3     Robert Cowley  2000  Berkley Publishing Group   \n",
       "4      Julia Oliver  1994            River City Pub   \n",
       "5      John Grisham  1999                      Dell   \n",
       "\n",
       "                                               Blurb  \\\n",
       "1  The fascinating, true story of the world's dea...   \n",
       "2  Winnie and Helen have kept each others worst s...   \n",
       "3  Historians and inquisitive laymen alike love t...   \n",
       "4  This highly praised first novel by fiction wri...   \n",
       "5  In a plush Virginia office, a rich, angry old ...   \n",
       "\n",
       "                                           imageUrlL  averageRating  \\\n",
       "1  http://images.amazon.com/images/P/0374157065.0...       4.272727   \n",
       "2  http://images.amazon.com/images/P/0399135782.0...       4.212121   \n",
       "3  http://images.amazon.com/images/P/0425176428.0...       1.600000   \n",
       "4  http://images.amazon.com/images/P/1881320189.0...       4.666667   \n",
       "5  http://images.amazon.com/images/P/0440234743.0...       3.085308   \n",
       "\n",
       "   ratingCount  wordCount                                       cleanedBlurb  \n",
       "1           11        180  fascinating true story world's deadliest disea...  \n",
       "2           33         94  winnie helen kept others worst secrets fifty y...  \n",
       "3            5         63  historians inquisitive laymen alike love ponde...  \n",
       "4            3        268  highly praised first novel fiction writer juli...  \n",
       "5          422        152  plush virginia office rich angry old man furio...  "
      ]
     },
     "execution_count": 84,
     "metadata": {},
     "output_type": "execute_result"
    }
   ],
   "source": [
    "merged_df2.head()"
   ]
  },
  {
   "cell_type": "code",
   "execution_count": 86,
   "id": "4b17d7e8",
   "metadata": {},
   "outputs": [],
   "source": [
    "#saves the data set to a csv that we are going to use late \n",
    "merged_df2.to_csv('/Users/aleksanderkaspersen/Documents/Skole/Master/Utveksling/Introduction to DH methods/Project/Data_processing3.csv')"
   ]
  },
  {
   "cell_type": "code",
   "execution_count": null,
   "id": "fc8d5564",
   "metadata": {},
   "outputs": [],
   "source": []
  }
 ],
 "metadata": {
  "kernelspec": {
   "display_name": "Python 3",
   "language": "python",
   "name": "python3"
  },
  "language_info": {
   "codemirror_mode": {
    "name": "ipython",
    "version": 3
   },
   "file_extension": ".py",
   "mimetype": "text/x-python",
   "name": "python",
   "nbconvert_exporter": "python",
   "pygments_lexer": "ipython3",
   "version": "3.8.8"
  }
 },
 "nbformat": 4,
 "nbformat_minor": 5
}
